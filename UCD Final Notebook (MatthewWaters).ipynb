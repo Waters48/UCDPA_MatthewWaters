{
 "cells": [
  {
   "cell_type": "code",
   "execution_count": 1,
   "id": "7d345c9c",
   "metadata": {},
   "outputs": [],
   "source": [
    "#Below you can see the important packages I have used in this assessment.\n",
    "\n",
    "import pandas as pd\n",
    "import numpy as np\n",
    "import requests\n",
    "import seaborn as sns\n",
    "import matplotlib.pyplot as plt"
   ]
  },
  {
   "cell_type": "code",
   "execution_count": 2,
   "id": "5ec2c95e",
   "metadata": {},
   "outputs": [],
   "source": [
    "variable = pd.read_csv('/Users/MatthewWaters/Downloads/outcomes.csv')\n",
    "\n",
    "# Evidence of importing a csv file."
   ]
  },
  {
   "cell_type": "markdown",
   "id": "42000017",
   "metadata": {},
   "source": [
    "<span style=\"font-size:20px;\">Data Overview</span>"
   ]
  },
  {
   "cell_type": "code",
   "execution_count": 3,
   "id": "c1fb5b5a",
   "metadata": {
    "scrolled": false
   },
   "outputs": [
    {
     "name": "stdout",
     "output_type": "stream",
     "text": [
      "<class 'pandas.core.frame.DataFrame'>\n",
      "RangeIndex: 41586 entries, 0 to 41585\n",
      "Data columns (total 9 columns):\n",
      " #   Column      Non-Null Count  Dtype \n",
      "---  ------      --------------  ----- \n",
      " 0   date        41586 non-null  object\n",
      " 1   home_team   41586 non-null  object\n",
      " 2   away_team   41586 non-null  object\n",
      " 3   home_score  41586 non-null  int64 \n",
      " 4   away_score  41586 non-null  int64 \n",
      " 5   tournament  41586 non-null  object\n",
      " 6   city        41586 non-null  object\n",
      " 7   country     41586 non-null  object\n",
      " 8   neutral     41586 non-null  bool  \n",
      "dtypes: bool(1), int64(2), object(6)\n",
      "memory usage: 2.6+ MB\n"
     ]
    }
   ],
   "source": [
    "variable.info()\n",
    "\n",
    "# Here an information overview of my dataset can be seen.\n",
    "# The Data type for 'home_score' and 'away_score' is an integer.\n",
    "# The Data type for 'neutral' is a Boolean."
   ]
  },
  {
   "cell_type": "code",
   "execution_count": 4,
   "id": "e6622704",
   "metadata": {},
   "outputs": [
    {
     "data": {
      "text/html": [
       "<div>\n",
       "<style scoped>\n",
       "    .dataframe tbody tr th:only-of-type {\n",
       "        vertical-align: middle;\n",
       "    }\n",
       "\n",
       "    .dataframe tbody tr th {\n",
       "        vertical-align: top;\n",
       "    }\n",
       "\n",
       "    .dataframe thead th {\n",
       "        text-align: right;\n",
       "    }\n",
       "</style>\n",
       "<table border=\"1\" class=\"dataframe\">\n",
       "  <thead>\n",
       "    <tr style=\"text-align: right;\">\n",
       "      <th></th>\n",
       "      <th>date</th>\n",
       "      <th>home_team</th>\n",
       "      <th>away_team</th>\n",
       "      <th>home_score</th>\n",
       "      <th>away_score</th>\n",
       "      <th>tournament</th>\n",
       "      <th>city</th>\n",
       "      <th>country</th>\n",
       "      <th>neutral</th>\n",
       "    </tr>\n",
       "  </thead>\n",
       "  <tbody>\n",
       "    <tr>\n",
       "      <th>0</th>\n",
       "      <td>1872-11-30</td>\n",
       "      <td>Scotland</td>\n",
       "      <td>England</td>\n",
       "      <td>0</td>\n",
       "      <td>0</td>\n",
       "      <td>Friendly</td>\n",
       "      <td>Glasgow</td>\n",
       "      <td>Scotland</td>\n",
       "      <td>False</td>\n",
       "    </tr>\n",
       "    <tr>\n",
       "      <th>1</th>\n",
       "      <td>1873-03-08</td>\n",
       "      <td>England</td>\n",
       "      <td>Scotland</td>\n",
       "      <td>4</td>\n",
       "      <td>2</td>\n",
       "      <td>Friendly</td>\n",
       "      <td>London</td>\n",
       "      <td>England</td>\n",
       "      <td>False</td>\n",
       "    </tr>\n",
       "    <tr>\n",
       "      <th>2</th>\n",
       "      <td>1874-03-07</td>\n",
       "      <td>Scotland</td>\n",
       "      <td>England</td>\n",
       "      <td>2</td>\n",
       "      <td>1</td>\n",
       "      <td>Friendly</td>\n",
       "      <td>Glasgow</td>\n",
       "      <td>Scotland</td>\n",
       "      <td>False</td>\n",
       "    </tr>\n",
       "    <tr>\n",
       "      <th>3</th>\n",
       "      <td>1875-03-06</td>\n",
       "      <td>England</td>\n",
       "      <td>Scotland</td>\n",
       "      <td>2</td>\n",
       "      <td>2</td>\n",
       "      <td>Friendly</td>\n",
       "      <td>London</td>\n",
       "      <td>England</td>\n",
       "      <td>False</td>\n",
       "    </tr>\n",
       "    <tr>\n",
       "      <th>4</th>\n",
       "      <td>1876-03-04</td>\n",
       "      <td>Scotland</td>\n",
       "      <td>England</td>\n",
       "      <td>3</td>\n",
       "      <td>0</td>\n",
       "      <td>Friendly</td>\n",
       "      <td>Glasgow</td>\n",
       "      <td>Scotland</td>\n",
       "      <td>False</td>\n",
       "    </tr>\n",
       "  </tbody>\n",
       "</table>\n",
       "</div>"
      ],
      "text/plain": [
       "         date home_team away_team  home_score  away_score tournament     city  \\\n",
       "0  1872-11-30  Scotland   England           0           0   Friendly  Glasgow   \n",
       "1  1873-03-08   England  Scotland           4           2   Friendly   London   \n",
       "2  1874-03-07  Scotland   England           2           1   Friendly  Glasgow   \n",
       "3  1875-03-06   England  Scotland           2           2   Friendly   London   \n",
       "4  1876-03-04  Scotland   England           3           0   Friendly  Glasgow   \n",
       "\n",
       "    country  neutral  \n",
       "0  Scotland    False  \n",
       "1   England    False  \n",
       "2  Scotland    False  \n",
       "3   England    False  \n",
       "4  Scotland    False  "
      ]
     },
     "execution_count": 4,
     "metadata": {},
     "output_type": "execute_result"
    }
   ],
   "source": [
    "variable.head()\n",
    "\n",
    "# The first five rows of my dataset."
   ]
  },
  {
   "cell_type": "code",
   "execution_count": 5,
   "id": "3bf05793",
   "metadata": {},
   "outputs": [
    {
     "data": {
      "text/html": [
       "<div>\n",
       "<style scoped>\n",
       "    .dataframe tbody tr th:only-of-type {\n",
       "        vertical-align: middle;\n",
       "    }\n",
       "\n",
       "    .dataframe tbody tr th {\n",
       "        vertical-align: top;\n",
       "    }\n",
       "\n",
       "    .dataframe thead th {\n",
       "        text-align: right;\n",
       "    }\n",
       "</style>\n",
       "<table border=\"1\" class=\"dataframe\">\n",
       "  <thead>\n",
       "    <tr style=\"text-align: right;\">\n",
       "      <th></th>\n",
       "      <th>date</th>\n",
       "      <th>home_team</th>\n",
       "      <th>away_team</th>\n",
       "      <th>home_score</th>\n",
       "      <th>away_score</th>\n",
       "      <th>tournament</th>\n",
       "      <th>city</th>\n",
       "      <th>country</th>\n",
       "      <th>neutral</th>\n",
       "    </tr>\n",
       "  </thead>\n",
       "  <tbody>\n",
       "    <tr>\n",
       "      <th>41581</th>\n",
       "      <td>2020-01-10</td>\n",
       "      <td>Barbados</td>\n",
       "      <td>Canada</td>\n",
       "      <td>1</td>\n",
       "      <td>4</td>\n",
       "      <td>Friendly</td>\n",
       "      <td>Irvine</td>\n",
       "      <td>United States</td>\n",
       "      <td>True</td>\n",
       "    </tr>\n",
       "    <tr>\n",
       "      <th>41582</th>\n",
       "      <td>2020-01-12</td>\n",
       "      <td>Kosovo</td>\n",
       "      <td>Sweden</td>\n",
       "      <td>0</td>\n",
       "      <td>1</td>\n",
       "      <td>Friendly</td>\n",
       "      <td>Doha</td>\n",
       "      <td>Qatar</td>\n",
       "      <td>True</td>\n",
       "    </tr>\n",
       "    <tr>\n",
       "      <th>41583</th>\n",
       "      <td>2020-01-15</td>\n",
       "      <td>Canada</td>\n",
       "      <td>Iceland</td>\n",
       "      <td>0</td>\n",
       "      <td>1</td>\n",
       "      <td>Friendly</td>\n",
       "      <td>Irvine</td>\n",
       "      <td>United States</td>\n",
       "      <td>True</td>\n",
       "    </tr>\n",
       "    <tr>\n",
       "      <th>41584</th>\n",
       "      <td>2020-01-19</td>\n",
       "      <td>El Salvador</td>\n",
       "      <td>Iceland</td>\n",
       "      <td>0</td>\n",
       "      <td>1</td>\n",
       "      <td>Friendly</td>\n",
       "      <td>Carson</td>\n",
       "      <td>United States</td>\n",
       "      <td>True</td>\n",
       "    </tr>\n",
       "    <tr>\n",
       "      <th>41585</th>\n",
       "      <td>2020-02-01</td>\n",
       "      <td>United States</td>\n",
       "      <td>Costa Rica</td>\n",
       "      <td>1</td>\n",
       "      <td>0</td>\n",
       "      <td>Friendly</td>\n",
       "      <td>Carson</td>\n",
       "      <td>United States</td>\n",
       "      <td>False</td>\n",
       "    </tr>\n",
       "  </tbody>\n",
       "</table>\n",
       "</div>"
      ],
      "text/plain": [
       "             date      home_team   away_team  home_score  away_score  \\\n",
       "41581  2020-01-10       Barbados      Canada           1           4   \n",
       "41582  2020-01-12         Kosovo      Sweden           0           1   \n",
       "41583  2020-01-15         Canada     Iceland           0           1   \n",
       "41584  2020-01-19    El Salvador     Iceland           0           1   \n",
       "41585  2020-02-01  United States  Costa Rica           1           0   \n",
       "\n",
       "      tournament    city        country  neutral  \n",
       "41581   Friendly  Irvine  United States     True  \n",
       "41582   Friendly    Doha          Qatar     True  \n",
       "41583   Friendly  Irvine  United States     True  \n",
       "41584   Friendly  Carson  United States     True  \n",
       "41585   Friendly  Carson  United States    False  "
      ]
     },
     "execution_count": 5,
     "metadata": {},
     "output_type": "execute_result"
    }
   ],
   "source": [
    "variable.tail()\n",
    "\n",
    "# The last five rows of my dataset."
   ]
  },
  {
   "cell_type": "code",
   "execution_count": 6,
   "id": "90a5e414",
   "metadata": {},
   "outputs": [
    {
     "data": {
      "text/html": [
       "<div>\n",
       "<style scoped>\n",
       "    .dataframe tbody tr th:only-of-type {\n",
       "        vertical-align: middle;\n",
       "    }\n",
       "\n",
       "    .dataframe tbody tr th {\n",
       "        vertical-align: top;\n",
       "    }\n",
       "\n",
       "    .dataframe thead th {\n",
       "        text-align: right;\n",
       "    }\n",
       "</style>\n",
       "<table border=\"1\" class=\"dataframe\">\n",
       "  <thead>\n",
       "    <tr style=\"text-align: right;\">\n",
       "      <th></th>\n",
       "      <th>date</th>\n",
       "      <th>home_team</th>\n",
       "      <th>away_team</th>\n",
       "      <th>home_score</th>\n",
       "      <th>away_score</th>\n",
       "      <th>tournament</th>\n",
       "      <th>city</th>\n",
       "      <th>country</th>\n",
       "      <th>neutral</th>\n",
       "    </tr>\n",
       "  </thead>\n",
       "  <tbody>\n",
       "    <tr>\n",
       "      <th>14673</th>\n",
       "      <td>1987-11-18</td>\n",
       "      <td>France</td>\n",
       "      <td>German DR</td>\n",
       "      <td>0</td>\n",
       "      <td>1</td>\n",
       "      <td>UEFA Euro qualification</td>\n",
       "      <td>Paris</td>\n",
       "      <td>France</td>\n",
       "      <td>False</td>\n",
       "    </tr>\n",
       "    <tr>\n",
       "      <th>20173</th>\n",
       "      <td>1997-01-19</td>\n",
       "      <td>Mozambique</td>\n",
       "      <td>Zimbabwe</td>\n",
       "      <td>1</td>\n",
       "      <td>2</td>\n",
       "      <td>Friendly</td>\n",
       "      <td>Maputo</td>\n",
       "      <td>Mozambique</td>\n",
       "      <td>False</td>\n",
       "    </tr>\n",
       "    <tr>\n",
       "      <th>38373</th>\n",
       "      <td>2016-10-10</td>\n",
       "      <td>Gibraltar</td>\n",
       "      <td>Belgium</td>\n",
       "      <td>0</td>\n",
       "      <td>6</td>\n",
       "      <td>FIFA World Cup qualification</td>\n",
       "      <td>Faro</td>\n",
       "      <td>Portugal</td>\n",
       "      <td>True</td>\n",
       "    </tr>\n",
       "    <tr>\n",
       "      <th>18948</th>\n",
       "      <td>1995-06-07</td>\n",
       "      <td>Wales</td>\n",
       "      <td>Georgia</td>\n",
       "      <td>0</td>\n",
       "      <td>1</td>\n",
       "      <td>UEFA Euro qualification</td>\n",
       "      <td>Cardiff</td>\n",
       "      <td>Wales</td>\n",
       "      <td>False</td>\n",
       "    </tr>\n",
       "    <tr>\n",
       "      <th>7816</th>\n",
       "      <td>1971-07-09</td>\n",
       "      <td>Libya</td>\n",
       "      <td>Syria</td>\n",
       "      <td>2</td>\n",
       "      <td>1</td>\n",
       "      <td>Friendly</td>\n",
       "      <td>Benghazi</td>\n",
       "      <td>Libya</td>\n",
       "      <td>False</td>\n",
       "    </tr>\n",
       "  </tbody>\n",
       "</table>\n",
       "</div>"
      ],
      "text/plain": [
       "             date   home_team  away_team  home_score  away_score  \\\n",
       "14673  1987-11-18      France  German DR           0           1   \n",
       "20173  1997-01-19  Mozambique   Zimbabwe           1           2   \n",
       "38373  2016-10-10   Gibraltar    Belgium           0           6   \n",
       "18948  1995-06-07       Wales    Georgia           0           1   \n",
       "7816   1971-07-09       Libya      Syria           2           1   \n",
       "\n",
       "                         tournament      city     country  neutral  \n",
       "14673       UEFA Euro qualification     Paris      France    False  \n",
       "20173                      Friendly    Maputo  Mozambique    False  \n",
       "38373  FIFA World Cup qualification      Faro    Portugal     True  \n",
       "18948       UEFA Euro qualification   Cardiff       Wales    False  \n",
       "7816                       Friendly  Benghazi       Libya    False  "
      ]
     },
     "execution_count": 6,
     "metadata": {},
     "output_type": "execute_result"
    }
   ],
   "source": [
    "variable.sample(5)\n",
    "\n",
    "#A random sample of five rows from my dataset."
   ]
  },
  {
   "cell_type": "code",
   "execution_count": 7,
   "id": "89d6e46a",
   "metadata": {
    "scrolled": true
   },
   "outputs": [
    {
     "data": {
      "text/plain": [
       "(41586, 9)"
      ]
     },
     "execution_count": 7,
     "metadata": {},
     "output_type": "execute_result"
    }
   ],
   "source": [
    "variable.shape\n",
    "\n",
    "# There are 41586 entries and 9 columns in my DataSet."
   ]
  },
  {
   "cell_type": "code",
   "execution_count": 8,
   "id": "d05fd243",
   "metadata": {},
   "outputs": [
    {
     "data": {
      "text/plain": [
       "Index(['date', 'home_team', 'away_team', 'home_score', 'away_score',\n",
       "       'tournament', 'city', 'country', 'neutral'],\n",
       "      dtype='object')"
      ]
     },
     "execution_count": 8,
     "metadata": {},
     "output_type": "execute_result"
    }
   ],
   "source": [
    "variable.columns\n",
    "\n",
    "# Below is a description of the column names in my dataset;\n",
    "   # date: This shows the day, month and year the match was played.\n",
    "   # home_team: This shows the home team for the match.\n",
    "   # away_team: This shows the away team for the match.\n",
    "   # home_score: This provides a total of the goals scored by the home team.\n",
    "   # away_score: This provides a total of the goals scored by the away team.\n",
    "   # tournament: This shows the competition or tournament the match was played in.\n",
    "   # city: This shows the city the match was played in.\n",
    "   # country: This shows the country the match was played in.\n",
    "   # neutral: Shows if the game was played in a neutral venue or not, meaning no team would've had an advantage."
   ]
  },
  {
   "cell_type": "code",
   "execution_count": 9,
   "id": "9997ebaf",
   "metadata": {},
   "outputs": [
    {
     "data": {
      "text/html": [
       "<div>\n",
       "<style scoped>\n",
       "    .dataframe tbody tr th:only-of-type {\n",
       "        vertical-align: middle;\n",
       "    }\n",
       "\n",
       "    .dataframe tbody tr th {\n",
       "        vertical-align: top;\n",
       "    }\n",
       "\n",
       "    .dataframe thead th {\n",
       "        text-align: right;\n",
       "    }\n",
       "</style>\n",
       "<table border=\"1\" class=\"dataframe\">\n",
       "  <thead>\n",
       "    <tr style=\"text-align: right;\">\n",
       "      <th></th>\n",
       "      <th>home_score</th>\n",
       "      <th>away_score</th>\n",
       "    </tr>\n",
       "  </thead>\n",
       "  <tbody>\n",
       "    <tr>\n",
       "      <th>count</th>\n",
       "      <td>41586.000000</td>\n",
       "      <td>41586.000000</td>\n",
       "    </tr>\n",
       "    <tr>\n",
       "      <th>mean</th>\n",
       "      <td>1.745756</td>\n",
       "      <td>1.187587</td>\n",
       "    </tr>\n",
       "    <tr>\n",
       "      <th>std</th>\n",
       "      <td>1.753780</td>\n",
       "      <td>1.405323</td>\n",
       "    </tr>\n",
       "    <tr>\n",
       "      <th>min</th>\n",
       "      <td>0.000000</td>\n",
       "      <td>0.000000</td>\n",
       "    </tr>\n",
       "    <tr>\n",
       "      <th>25%</th>\n",
       "      <td>1.000000</td>\n",
       "      <td>0.000000</td>\n",
       "    </tr>\n",
       "    <tr>\n",
       "      <th>50%</th>\n",
       "      <td>1.000000</td>\n",
       "      <td>1.000000</td>\n",
       "    </tr>\n",
       "    <tr>\n",
       "      <th>75%</th>\n",
       "      <td>2.000000</td>\n",
       "      <td>2.000000</td>\n",
       "    </tr>\n",
       "    <tr>\n",
       "      <th>max</th>\n",
       "      <td>31.000000</td>\n",
       "      <td>21.000000</td>\n",
       "    </tr>\n",
       "  </tbody>\n",
       "</table>\n",
       "</div>"
      ],
      "text/plain": [
       "         home_score    away_score\n",
       "count  41586.000000  41586.000000\n",
       "mean       1.745756      1.187587\n",
       "std        1.753780      1.405323\n",
       "min        0.000000      0.000000\n",
       "25%        1.000000      0.000000\n",
       "50%        1.000000      1.000000\n",
       "75%        2.000000      2.000000\n",
       "max       31.000000     21.000000"
      ]
     },
     "execution_count": 9,
     "metadata": {},
     "output_type": "execute_result"
    }
   ],
   "source": [
    "variable.describe()\n",
    "\n",
    "# Compare the number of goals scored by home and away teams.\n",
    "   # HOME: The least amount of goals scored by a home team was 0. (min)\n",
    "         # The most amount of goals scored by a home team was 31. (max)\n",
    "         # The average number of goals scored by a home team was 1.745756. (mean)\n",
    "        \n",
    "   # AWAY: The least amount of goals scored by an away team was 0. (min)\n",
    "         # The most amount of goals scored by an away team was 21. (max)\n",
    "         # The average number of goals scored by an away team was 1.187587. (mean)"
   ]
  },
  {
   "cell_type": "code",
   "execution_count": 10,
   "id": "90c8584c",
   "metadata": {},
   "outputs": [
    {
     "data": {
      "text/plain": [
       "0"
      ]
     },
     "execution_count": 10,
     "metadata": {},
     "output_type": "execute_result"
    }
   ],
   "source": [
    "variable.duplicated().sum()\n",
    "\n",
    "#There are no duplicates in this dataset."
   ]
  },
  {
   "cell_type": "code",
   "execution_count": 11,
   "id": "175cfc06",
   "metadata": {},
   "outputs": [
    {
     "data": {
      "text/html": [
       "<div>\n",
       "<style scoped>\n",
       "    .dataframe tbody tr th:only-of-type {\n",
       "        vertical-align: middle;\n",
       "    }\n",
       "\n",
       "    .dataframe tbody tr th {\n",
       "        vertical-align: top;\n",
       "    }\n",
       "\n",
       "    .dataframe thead th {\n",
       "        text-align: right;\n",
       "    }\n",
       "</style>\n",
       "<table border=\"1\" class=\"dataframe\">\n",
       "  <thead>\n",
       "    <tr style=\"text-align: right;\">\n",
       "      <th></th>\n",
       "      <th>date</th>\n",
       "      <th>home_team</th>\n",
       "      <th>away_team</th>\n",
       "      <th>home_score</th>\n",
       "      <th>away_score</th>\n",
       "      <th>tournament</th>\n",
       "      <th>city</th>\n",
       "      <th>country</th>\n",
       "      <th>neutral</th>\n",
       "    </tr>\n",
       "  </thead>\n",
       "  <tbody>\n",
       "    <tr>\n",
       "      <th>0</th>\n",
       "      <td>False</td>\n",
       "      <td>False</td>\n",
       "      <td>False</td>\n",
       "      <td>False</td>\n",
       "      <td>False</td>\n",
       "      <td>False</td>\n",
       "      <td>False</td>\n",
       "      <td>False</td>\n",
       "      <td>False</td>\n",
       "    </tr>\n",
       "    <tr>\n",
       "      <th>1</th>\n",
       "      <td>False</td>\n",
       "      <td>False</td>\n",
       "      <td>False</td>\n",
       "      <td>False</td>\n",
       "      <td>False</td>\n",
       "      <td>False</td>\n",
       "      <td>False</td>\n",
       "      <td>False</td>\n",
       "      <td>False</td>\n",
       "    </tr>\n",
       "    <tr>\n",
       "      <th>2</th>\n",
       "      <td>False</td>\n",
       "      <td>False</td>\n",
       "      <td>False</td>\n",
       "      <td>False</td>\n",
       "      <td>False</td>\n",
       "      <td>False</td>\n",
       "      <td>False</td>\n",
       "      <td>False</td>\n",
       "      <td>False</td>\n",
       "    </tr>\n",
       "    <tr>\n",
       "      <th>3</th>\n",
       "      <td>False</td>\n",
       "      <td>False</td>\n",
       "      <td>False</td>\n",
       "      <td>False</td>\n",
       "      <td>False</td>\n",
       "      <td>False</td>\n",
       "      <td>False</td>\n",
       "      <td>False</td>\n",
       "      <td>False</td>\n",
       "    </tr>\n",
       "    <tr>\n",
       "      <th>4</th>\n",
       "      <td>False</td>\n",
       "      <td>False</td>\n",
       "      <td>False</td>\n",
       "      <td>False</td>\n",
       "      <td>False</td>\n",
       "      <td>False</td>\n",
       "      <td>False</td>\n",
       "      <td>False</td>\n",
       "      <td>False</td>\n",
       "    </tr>\n",
       "    <tr>\n",
       "      <th>...</th>\n",
       "      <td>...</td>\n",
       "      <td>...</td>\n",
       "      <td>...</td>\n",
       "      <td>...</td>\n",
       "      <td>...</td>\n",
       "      <td>...</td>\n",
       "      <td>...</td>\n",
       "      <td>...</td>\n",
       "      <td>...</td>\n",
       "    </tr>\n",
       "    <tr>\n",
       "      <th>41581</th>\n",
       "      <td>False</td>\n",
       "      <td>False</td>\n",
       "      <td>False</td>\n",
       "      <td>False</td>\n",
       "      <td>False</td>\n",
       "      <td>False</td>\n",
       "      <td>False</td>\n",
       "      <td>False</td>\n",
       "      <td>False</td>\n",
       "    </tr>\n",
       "    <tr>\n",
       "      <th>41582</th>\n",
       "      <td>False</td>\n",
       "      <td>False</td>\n",
       "      <td>False</td>\n",
       "      <td>False</td>\n",
       "      <td>False</td>\n",
       "      <td>False</td>\n",
       "      <td>False</td>\n",
       "      <td>False</td>\n",
       "      <td>False</td>\n",
       "    </tr>\n",
       "    <tr>\n",
       "      <th>41583</th>\n",
       "      <td>False</td>\n",
       "      <td>False</td>\n",
       "      <td>False</td>\n",
       "      <td>False</td>\n",
       "      <td>False</td>\n",
       "      <td>False</td>\n",
       "      <td>False</td>\n",
       "      <td>False</td>\n",
       "      <td>False</td>\n",
       "    </tr>\n",
       "    <tr>\n",
       "      <th>41584</th>\n",
       "      <td>False</td>\n",
       "      <td>False</td>\n",
       "      <td>False</td>\n",
       "      <td>False</td>\n",
       "      <td>False</td>\n",
       "      <td>False</td>\n",
       "      <td>False</td>\n",
       "      <td>False</td>\n",
       "      <td>False</td>\n",
       "    </tr>\n",
       "    <tr>\n",
       "      <th>41585</th>\n",
       "      <td>False</td>\n",
       "      <td>False</td>\n",
       "      <td>False</td>\n",
       "      <td>False</td>\n",
       "      <td>False</td>\n",
       "      <td>False</td>\n",
       "      <td>False</td>\n",
       "      <td>False</td>\n",
       "      <td>False</td>\n",
       "    </tr>\n",
       "  </tbody>\n",
       "</table>\n",
       "<p>41586 rows × 9 columns</p>\n",
       "</div>"
      ],
      "text/plain": [
       "        date  home_team  away_team  home_score  away_score  tournament   city  \\\n",
       "0      False      False      False       False       False       False  False   \n",
       "1      False      False      False       False       False       False  False   \n",
       "2      False      False      False       False       False       False  False   \n",
       "3      False      False      False       False       False       False  False   \n",
       "4      False      False      False       False       False       False  False   \n",
       "...      ...        ...        ...         ...         ...         ...    ...   \n",
       "41581  False      False      False       False       False       False  False   \n",
       "41582  False      False      False       False       False       False  False   \n",
       "41583  False      False      False       False       False       False  False   \n",
       "41584  False      False      False       False       False       False  False   \n",
       "41585  False      False      False       False       False       False  False   \n",
       "\n",
       "       country  neutral  \n",
       "0        False    False  \n",
       "1        False    False  \n",
       "2        False    False  \n",
       "3        False    False  \n",
       "4        False    False  \n",
       "...        ...      ...  \n",
       "41581    False    False  \n",
       "41582    False    False  \n",
       "41583    False    False  \n",
       "41584    False    False  \n",
       "41585    False    False  \n",
       "\n",
       "[41586 rows x 9 columns]"
      ]
     },
     "execution_count": 11,
     "metadata": {},
     "output_type": "execute_result"
    }
   ],
   "source": [
    "variable.isnull()\n",
    "\n",
    "#There are no missing values in this dataset."
   ]
  },
  {
   "cell_type": "code",
   "execution_count": 12,
   "id": "4d62cfbb",
   "metadata": {},
   "outputs": [
    {
     "data": {
      "text/plain": [
       "date          0\n",
       "home_team     0\n",
       "away_team     0\n",
       "home_score    0\n",
       "away_score    0\n",
       "tournament    0\n",
       "city          0\n",
       "country       0\n",
       "neutral       0\n",
       "dtype: int64"
      ]
     },
     "execution_count": 12,
     "metadata": {},
     "output_type": "execute_result"
    }
   ],
   "source": [
    "variable.isnull().sum()\n",
    "\n",
    "# Confirmation that there are no missing values to replace in this dataset."
   ]
  },
  {
   "cell_type": "markdown",
   "id": "921db2e9",
   "metadata": {},
   "source": [
    "<span style=\"font-size:20px;\">Data Manipulation</span>"
   ]
  },
  {
   "cell_type": "code",
   "execution_count": 13,
   "id": "03009b1a",
   "metadata": {},
   "outputs": [],
   "source": [
    "results_variable = variable.copy()\n",
    "\n",
    "#Copy of my dataset."
   ]
  },
  {
   "cell_type": "code",
   "execution_count": 14,
   "id": "241dfb78",
   "metadata": {},
   "outputs": [],
   "source": [
    "variable['date'] = pd.to_datetime(variable['date'])\n",
    "\n",
    "#Changed the date column in my dataSet to DateTime using Pandas 'datetime' function."
   ]
  },
  {
   "cell_type": "code",
   "execution_count": 15,
   "id": "3394dadb",
   "metadata": {},
   "outputs": [
    {
     "data": {
      "text/plain": [
       "date          datetime64[ns]\n",
       "home_team             object\n",
       "away_team             object\n",
       "home_score             int64\n",
       "away_score             int64\n",
       "tournament            object\n",
       "city                  object\n",
       "country               object\n",
       "neutral                 bool\n",
       "dtype: object"
      ]
     },
     "execution_count": 15,
     "metadata": {},
     "output_type": "execute_result"
    }
   ],
   "source": [
    "variable.dtypes\n",
    "\n",
    "#Checking the data types again to see if the change was successful."
   ]
  },
  {
   "cell_type": "code",
   "execution_count": 16,
   "id": "20fd2fac",
   "metadata": {},
   "outputs": [],
   "source": [
    "results_variable = results_variable.rename(columns={\"tournament\":\"competition\"})\n",
    "\n",
    "#Changing column name tournament to competition."
   ]
  },
  {
   "cell_type": "code",
   "execution_count": 17,
   "id": "586f3574",
   "metadata": {},
   "outputs": [
    {
     "data": {
      "text/plain": [
       "0    Friendly\n",
       "1    Friendly\n",
       "2    Friendly\n",
       "3    Friendly\n",
       "4    Friendly\n",
       "Name: competition, dtype: object"
      ]
     },
     "execution_count": 17,
     "metadata": {},
     "output_type": "execute_result"
    }
   ],
   "source": [
    "results_variable['competition'].head()\n",
    "\n",
    "#Evidence of successful column name change."
   ]
  },
  {
   "cell_type": "code",
   "execution_count": 18,
   "id": "7f35e711",
   "metadata": {},
   "outputs": [
    {
     "name": "stdout",
     "output_type": "stream",
     "text": [
      "             date home_team away_team  home_score  away_score  \\\n",
      "35644  2013-11-14   Curaçao     Aruba           2           0   \n",
      "33768  2011-12-04  Suriname   Curaçao           2           0   \n",
      "33756  2011-12-02   Curaçao   Bonaire           1           3   \n",
      "36708  2015-01-30   Curaçao     Aruba           0           0   \n",
      "35643  2013-11-14   Bonaire  Suriname           0           2   \n",
      "\n",
      "           competition        city   country  neutral  \n",
      "35644  ABCS Tournament  Willemstad   Curaçao    False  \n",
      "33768  ABCS Tournament  Paramaribo  Suriname    False  \n",
      "33756  ABCS Tournament  Paramaribo  Suriname     True  \n",
      "36708  ABCS Tournament  Paramaribo  Suriname     True  \n",
      "35643  ABCS Tournament  Willemstad   Curaçao     True  \n"
     ]
    }
   ],
   "source": [
    "results_variable_sorted = results_variable.sort_values('competition')\n",
    "print(results_variable_sorted.head(5))\n",
    "\n",
    "# Evidence of sorting alphabetically by competition name."
   ]
  },
  {
   "cell_type": "code",
   "execution_count": 19,
   "id": "ee504a5b",
   "metadata": {
    "scrolled": true
   },
   "outputs": [
    {
     "name": "stdout",
     "output_type": "stream",
     "text": [
      "                        competition        date  \\\n",
      "11981             CFU Caribbean Cup  1981-10-19   \n",
      "38081                  Copa América  2016-06-14   \n",
      "30731  FIFA World Cup qualification  2008-10-11   \n",
      "9118                       Friendly  1974-10-07   \n",
      "12457                      Friendly  1983-02-06   \n",
      "4778                       Friendly  1960-09-20   \n",
      "9614                       Friendly  1976-03-02   \n",
      "31783                      Friendly  2009-11-17   \n",
      "24083                      Friendly  2001-06-23   \n",
      "34331                     Nehru Cup  2012-08-30   \n",
      "\n",
      "                              home_team            away_team  \n",
      "11981  Saint Vincent and the Grenadines  Trinidad and Tobago  \n",
      "38081                         Argentina              Bolivia  \n",
      "30731                            Greece              Moldova  \n",
      "9118                            Morocco                Sudan  \n",
      "12457                           Tunisia            German DR  \n",
      "4778                Trinidad and Tobago           Martinique  \n",
      "9614                            Algeria               Sweden  \n",
      "31783                      South Africa              Jamaica  \n",
      "24083                           Bermuda  Trinidad and Tobago  \n",
      "34331                             Syria                Nepal  \n"
     ]
    }
   ],
   "source": [
    "column_display = ['competition', 'date', 'home_team', 'away_team']\n",
    "results_variable_sorted = results_variable_sorted[column_display]\n",
    "\n",
    "results_variable_sorted = results_variable_sorted.sample(10).sort_values('competition')\n",
    "\n",
    "print(results_variable_sorted)\n",
    "\n",
    "#Shows a random sample of only four columns sorted alphabetically by competition name."
   ]
  },
  {
   "cell_type": "code",
   "execution_count": 20,
   "id": "fb22e614",
   "metadata": {},
   "outputs": [
    {
     "name": "stdout",
     "output_type": "stream",
     "text": [
      "Scotland: 1352 goals\n",
      "England: 2208 goals\n",
      "Wales: 822 goals\n",
      "Northern Ireland: 674 goals\n",
      "United States: 994 goals\n",
      "Canada: 441 goals\n",
      "Uruguay: 1391 goals\n",
      "Argentina: 1830 goals\n",
      "Austria: 1382 goals\n",
      "Hungary: 1886 goals\n",
      "Czechoslovakia: 915 goals\n",
      "Belgium: 1356 goals\n",
      "France: 1493 goals\n",
      "Switzerland: 1164 goals\n",
      "Netherlands: 1618 goals\n",
      "Germany: 2124 goals\n",
      "Sweden: 2015 goals\n",
      "Norway: 1209 goals\n",
      "Italy: 1369 goals\n",
      "Chile: 1081 goals\n",
      "Finland: 874 goals\n",
      "Luxembourg: 244 goals\n",
      "Catalonia: 73 goals\n",
      "Russia: 1199 goals\n",
      "Denmark: 1416 goals\n",
      "Brazil: 2149 goals\n",
      "Basque Country: 154 goals\n",
      "Japan: 1105 goals\n",
      "Philippines: 275 goals\n",
      "Paraguay: 942 goals\n",
      "Estonia: 470 goals\n",
      "Provence: 38 goals\n",
      "Costa Rica: 985 goals\n",
      "El Salvador: 613 goals\n",
      "Guatemala: 606 goals\n",
      "Yugoslavia: 940 goals\n",
      "Poland: 1371 goals\n",
      "Spain: 1400 goals\n",
      "Portugal: 1032 goals\n",
      "Brittany: 18 goals\n",
      "Romania: 1135 goals\n",
      "New Zealand: 619 goals\n",
      "Australia: 1046 goals\n",
      "Latvia: 472 goals\n",
      "Galicia: 18 goals\n",
      "Central Spain: 2 goals\n",
      "Mexico: 1514 goals\n",
      "Andalusia: 25 goals\n",
      "Asturias: 3 goals\n",
      "China PR: 1079 goals\n",
      "Lithuania: 381 goals\n",
      "Turkey: 754 goals\n",
      "Aruba: 154 goals\n",
      "Curaçao: 527 goals\n",
      "Bulgaria: 951 goals\n",
      "Egypt: 1022 goals\n",
      "South Africa: 532 goals\n",
      "Haiti: 705 goals\n",
      "Jamaica: 757 goals\n",
      "Republic of Ireland: 779 goals\n",
      "Kenya: 900 goals\n",
      "Uganda: 965 goals\n",
      "Bolivia: 469 goals\n",
      "Peru: 767 goals\n",
      "Honduras: 758 goals\n",
      "Guyana: 334 goals\n",
      "Trinidad and Tobago: 1136 goals\n",
      "Belarus: 294 goals\n",
      "Ukraine: 376 goals\n",
      "Barbados: 344 goals\n",
      "Nicaragua: 136 goals\n",
      "Greece: 696 goals\n",
      "Martinique: 561 goals\n",
      "Dominica: 212 goals\n",
      "Silesia: 24 goals\n",
      "Cuba: 442 goals\n",
      "Guadeloupe: 397 goals\n",
      "Israel: 621 goals\n",
      "Indonesia: 919 goals\n",
      "Suriname: 673 goals\n",
      "French Guiana: 233 goals\n",
      "Saint Lucia: 286 goals\n",
      "Ecuador: 620 goals\n",
      "Colombia: 673 goals\n",
      "Venezuela: 389 goals\n",
      "Saint Kitts and Nevis: 311 goals\n",
      "Grenada: 371 goals\n",
      "India: 562 goals\n",
      "Panama: 490 goals\n",
      "Slovakia: 424 goals\n",
      "Manchukuo: 0 goals\n",
      "Croatia: 555 goals\n",
      "Lebanon: 314 goals\n",
      "Puerto Rico: 119 goals\n",
      "Afghanistan: 114 goals\n",
      "Iran: 925 goals\n",
      "Mongolia: 96 goals\n",
      "Tanzania: 599 goals\n",
      "Zimbabwe: 625 goals\n",
      "Zambia: 1121 goals\n",
      "Iceland: 539 goals\n",
      "Albania: 305 goals\n",
      "Montenegro: 126 goals\n",
      "Madagascar: 293 goals\n",
      "Mauritius: 310 goals\n",
      "Réunion: 135 goals\n",
      "Zanzibar: 187 goals\n",
      "Djibouti: 60 goals\n",
      "Ethiopia: 503 goals\n",
      "DR Congo: 701 goals\n",
      "South Korea: 1512 goals\n",
      "Vietnam: 339 goals\n",
      "Macau: 107 goals\n",
      "Dominican Republic: 178 goals\n",
      "Cyprus: 320 goals\n",
      "Sierra Leone: 241 goals\n",
      "Nigeria: 856 goals\n",
      "Syria: 588 goals\n",
      "Serbia: 422 goals\n",
      "Chinese Taipei: 192 goals\n",
      "Ghana: 972 goals\n",
      "New Caledonia: 614 goals\n",
      "Vanuatu: 341 goals\n",
      "Fiji: 523 goals\n",
      "Burma: 572 goals\n",
      "Pakistan: 178 goals\n",
      "Sri Lanka: 200 goals\n",
      "German DR: 506 goals\n",
      "Tahiti: 564 goals\n",
      "Gambia: 198 goals\n",
      "Hong Kong: 580 goals\n",
      "Singapore: 731 goals\n",
      "Malaysia: 908 goals\n",
      "Guinea-Bissau: 141 goals\n",
      "Saarland: 10 goals\n",
      "Burundi: 201 goals\n",
      "Kernow: 30 goals\n",
      "Cambodia: 252 goals\n",
      "Thailand: 981 goals\n",
      "Vietnam Republic: 281 goals\n",
      "Kyrgyzstan: 160 goals\n",
      "Moldova: 190 goals\n",
      "North Vietnam: 49 goals\n",
      "Togo: 417 goals\n",
      "North Korea: 541 goals\n",
      "Sudan: 448 goals\n",
      "Malta: 241 goals\n",
      "Tunisia: 832 goals\n",
      "Libya: 427 goals\n",
      "Malawi: 678 goals\n",
      "Morocco: 750 goals\n",
      "Benin: 267 goals\n",
      "Cape Verde: 171 goals\n",
      "Cameroon: 738 goals\n",
      "Central African Republic: 102 goals\n",
      "Mali: 633 goals\n",
      "Gabon: 416 goals\n",
      "Burkina Faso: 447 goals\n",
      "Ivory Coast: 904 goals\n",
      "Congo: 476 goals\n",
      "Iraq: 867 goals\n",
      "Saint Vincent and the Grenadines: 246 goals\n",
      "Senegal: 690 goals\n",
      "Guinea: 631 goals\n",
      "Algeria: 707 goals\n",
      "Kuwait: 876 goals\n",
      "Jordan: 476 goals\n",
      "Papua New Guinea: 280 goals\n",
      "Solomon Islands: 383 goals\n",
      "Liberia: 220 goals\n",
      "Somalia: 56 goals\n",
      "Laos: 169 goals\n",
      "Saudi Arabia: 987 goals\n",
      "Chad: 106 goals\n",
      "Bermuda: 256 goals\n",
      "Niger: 190 goals\n",
      "Bahrain: 595 goals\n",
      "Palestine: 256 goals\n",
      "Yemen: 215 goals\n",
      "Wallis Islands and Futuna: 23 goals\n",
      "Corsica: 10 goals\n",
      "Mauritania: 155 goals\n",
      "Western Australia: 55 goals\n",
      "Eswatini: 189 goals\n",
      "Botswana: 229 goals\n",
      "Qatar: 763 goals\n",
      "Lesotho: 203 goals\n",
      "Bahamas: 48 goals\n",
      "Brunei: 55 goals\n",
      "Cook Islands: 38 goals\n",
      "Yemen DPR: 25 goals\n",
      "United Arab Emirates: 734 goals\n",
      "Faroe Islands: 182 goals\n",
      "Nepal: 147 goals\n",
      "Antigua and Barbuda: 274 goals\n",
      "Bangladesh: 182 goals\n",
      "Seychelles: 76 goals\n",
      "Oman: 583 goals\n",
      "Equatorial Guinea: 108 goals\n",
      "Mozambique: 323 goals\n",
      "Guam: 122 goals\n",
      "Angola: 400 goals\n",
      "São Tomé and Príncipe: 36 goals\n",
      "Rwanda: 263 goals\n",
      "Northern Cyprus: 98 goals\n",
      "Armenia: 212 goals\n",
      "Georgia: 281 goals\n",
      "Azerbaijan: 181 goals\n",
      "Kazakhstan: 208 goals\n",
      "Tonga: 67 goals\n",
      "Kiribati: 7 goals\n",
      "Tuvalu: 35 goals\n",
      "Samoa: 71 goals\n",
      "Greenland: 140 goals\n",
      "Liechtenstein: 87 goals\n",
      "Bhutan: 48 goals\n",
      "Niue: 0 goals\n",
      "American Samoa: 36 goals\n",
      "Belize: 83 goals\n",
      "Cayman Islands: 92 goals\n",
      "Anguilla: 37 goals\n",
      "British Virgin Islands: 79 goals\n",
      "Palau: 4 goals\n",
      "Sint Maarten: 44 goals\n",
      "Namibia: 232 goals\n",
      "Ynys Môn: 112 goals\n",
      "Shetland: 85 goals\n",
      "Åland Islands: 73 goals\n",
      "Saint Martin: 51 goals\n",
      "San Marino: 24 goals\n",
      "Montserrat: 41 goals\n",
      "Slovenia: 301 goals\n",
      "Jersey: 181 goals\n",
      "Guernsey: 169 goals\n",
      "Isle of Wight: 106 goals\n",
      "Turkmenistan: 214 goals\n",
      "Tajikistan: 221 goals\n",
      "Uzbekistan: 452 goals\n",
      "Eritrea: 48 goals\n",
      "Czech Republic: 533 goals\n",
      "Gibraltar: 142 goals\n",
      "Isle of Man: 156 goals\n",
      "North Macedonia: 270 goals\n",
      "Bosnia and Herzegovina: 325 goals\n",
      "Canary Islands: 11 goals\n",
      "Maldives: 220 goals\n",
      "Andorra: 45 goals\n",
      "Frøya: 53 goals\n",
      "Hitra: 24 goals\n",
      "U.S. Virgin Islands: 29 goals\n",
      "Northern Mariana Islands: 18 goals\n",
      "Turks and Caicos Islands: 24 goals\n",
      "Micronesia: 8 goals\n",
      "Gotland: 81 goals\n",
      "Saare County: 41 goals\n",
      "Rhodes: 29 goals\n",
      "Tibet: 6 goals\n",
      "Orkney: 23 goals\n",
      "Falkland Islands: 28 goals\n",
      "Monaco: 15 goals\n",
      "Mayotte: 29 goals\n",
      "Vatican City: 2 goals\n",
      "East Timor: 42 goals\n",
      "Alderney: 15 goals\n",
      "Sark: 0 goals\n",
      "Western Isles: 44 goals\n",
      "Kosovo: 60 goals\n",
      "Republic of St. Pauli: 10 goals\n",
      "Găgăuzia: 2 goals\n",
      "Crimea: 7 goals\n",
      "Occitania: 33 goals\n",
      "Sápmi: 84 goals\n",
      "Comoros: 39 goals\n",
      "Menorca: 50 goals\n",
      "Iraqi Kurdistan: 61 goals\n",
      "Padania: 118 goals\n",
      "Arameans Suryoye: 16 goals\n",
      "Gozo: 7 goals\n",
      "Two Sicilies: 2 goals\n",
      "Saint Pierre and Miquelon: 2 goals\n",
      "Bonaire: 34 goals\n",
      "Western Sahara: 11 goals\n",
      "Raetia: 4 goals\n",
      "Darfur: 1 goals\n",
      "Tamil Eelam: 35 goals\n",
      "South Sudan: 32 goals\n",
      "Abkhazia: 48 goals\n",
      "Artsakh: 32 goals\n",
      "Madrid: 1 goals\n",
      "Ellan Vannin: 30 goals\n",
      "South Ossetia: 30 goals\n",
      "County of Nice: 19 goals\n",
      "Székely Land: 42 goals\n",
      "Romani people: 7 goals\n",
      "Felvidék: 8 goals\n",
      "Chagos Islands: 16 goals\n",
      "Somaliland: 12 goals\n",
      "Western Armenia: 34 goals\n",
      "United Koreans in Japan: 11 goals\n",
      "Panjab: 31 goals\n",
      "Barawa: 16 goals\n",
      "Kárpátalja: 24 goals\n",
      "Yorkshire: 27 goals\n",
      "Surrey: 3 goals\n",
      "Cascadia: 23 goals\n",
      "Matabeleland: 5 goals\n",
      "Kabylia: 8 goals\n",
      "Timor-Leste: 11 goals\n",
      "Myanmar: 16 goals\n",
      "Parishes of Jersey: 11 goals\n",
      "Chameria: 9 goals\n",
      "Saint Helena: 4 goals\n"
     ]
    }
   ],
   "source": [
    "team_goals = {}\n",
    "for index, row in results_variable.iterrows():\n",
    "    home_team = row['home_team']\n",
    "    away_team = row['away_team']\n",
    "    home_score = row['home_score']\n",
    "    away_score = row['away_score']\n",
    "    \n",
    "    if home_team in team_goals:\n",
    "        team_goals[home_team] += home_score\n",
    "    else:\n",
    "        team_goals[home_team] = home_score\n",
    "    if away_team in team_goals:\n",
    "        team_goals[away_team] += away_score\n",
    "    else:\n",
    "        team_goals[away_team] = away_score\n",
    "\n",
    "for team, goals in team_goals.items():\n",
    "    print(f\"{team}: {goals} goals\")\n",
    "    \n",
    "#Function that shows the total goals scored by every country and maintains a dictionary.    "
   ]
  },
  {
   "cell_type": "code",
   "execution_count": 21,
   "id": "2dfa197a",
   "metadata": {},
   "outputs": [
    {
     "name": "stdout",
     "output_type": "stream",
     "text": [
      "RangeIndex(start=0, stop=41586, step=1)\n"
     ]
    }
   ],
   "source": [
    "print(variable.index)"
   ]
  },
  {
   "cell_type": "code",
   "execution_count": 22,
   "id": "29ff2d1d",
   "metadata": {},
   "outputs": [
    {
     "name": "stdout",
     "output_type": "stream",
     "text": [
      "date           1887-02-19 00:00:00\n",
      "home_team                 Scotland\n",
      "away_team         Northern Ireland\n",
      "home_score                       4\n",
      "away_score                       1\n",
      "tournament    British Championship\n",
      "city                       Glasgow\n",
      "country                   Scotland\n",
      "neutral                      False\n",
      "Name: 50, dtype: object\n"
     ]
    }
   ],
   "source": [
    "row_example = variable.loc[50]\n",
    "print(row_example)\n",
    "\n",
    "#Indexing to access the 50th row of my DataSet."
   ]
  },
  {
   "cell_type": "code",
   "execution_count": 23,
   "id": "b4bc7c87",
   "metadata": {
    "scrolled": true
   },
   "outputs": [
    {
     "name": "stdout",
     "output_type": "stream",
     "text": [
      "date          1923-04-02 00:00:00\n",
      "home_team             Netherlands\n",
      "away_team                  France\n",
      "home_score                      8\n",
      "away_score                      1\n",
      "tournament               Friendly\n",
      "city                    Amsterdam\n",
      "country               Netherlands\n",
      "neutral                     False\n",
      "Name: 700, dtype: object\n"
     ]
    }
   ],
   "source": [
    "row_position = variable.iloc[700]\n",
    "print(row_position)\n",
    "\n",
    "#Indexing by position to get the 700th row of my DataSet."
   ]
  },
  {
   "cell_type": "markdown",
   "id": "81224783",
   "metadata": {},
   "source": [
    "<span style=\"font-size:20px;\">Total Goals v Total Matches (YoY Analysis)</span>\n"
   ]
  },
  {
   "cell_type": "code",
   "execution_count": 24,
   "id": "50dc4384",
   "metadata": {},
   "outputs": [
    {
     "name": "stdout",
     "output_type": "stream",
     "text": [
      "date\n",
      "1872       1\n",
      "1873       1\n",
      "1874       1\n",
      "1875       1\n",
      "1876       2\n",
      "        ... \n",
      "2016     926\n",
      "2017     958\n",
      "2018     905\n",
      "2019    1155\n",
      "2020       7\n",
      "Name: date, Length: 149, dtype: int64\n"
     ]
    }
   ],
   "source": [
    "all_matches = variable.groupby(variable['date'].dt.year)['date'].count()\n",
    "print(all_matches)\n",
    "\n",
    "#Calculation of total matches played in a year using grouping."
   ]
  },
  {
   "cell_type": "code",
   "execution_count": 25,
   "id": "fcee487d",
   "metadata": {},
   "outputs": [
    {
     "data": {
      "image/png": "[encoded data removed]",
      "text/plain": [
       "<Figure size 1080x648 with 1 Axes>"
      ]
     },
     "metadata": {
      "needs_background": "light"
     },
     "output_type": "display_data"
    }
   ],
   "source": [
    "#What were the total number of matches played each year?\n",
    "#GRAPH ONE:\n",
    "\n",
    "plt.figure(figsize=(15, 9))  \n",
    "plt.bar(all_matches.index, all_matches.values, color='skyblue')\n",
    "plt.title('Total Number of Matches Played Each Year', fontsize=16)\n",
    "plt.xlabel('Year', fontsize=13)\n",
    "plt.ylabel('Number of Matches', fontsize=13)\n",
    "plt.grid(axis='y', linestyle='--', alpha=0.7)\n",
    "plt.show()\n",
    "\n",
    "#A significant increase in the number of matches can be seen over the course of my DataSet."
   ]
  },
  {
   "cell_type": "code",
   "execution_count": 26,
   "id": "85923a91",
   "metadata": {},
   "outputs": [
    {
     "data": {
      "text/plain": [
       "<Figure size 864x504 with 0 Axes>"
      ]
     },
     "metadata": {},
     "output_type": "display_data"
    },
    {
     "data": {
      "image/png": "[encoded data removed]",
      "text/plain": [
       "<Figure size 432x288 with 1 Axes>"
      ]
     },
     "metadata": {
      "needs_background": "light"
     },
     "output_type": "display_data"
    }
   ],
   "source": [
    "#What was the total number of goals (home and away) scored each year?\n",
    "#GRAPH TWO:\n",
    "\n",
    "all_goals = variable.groupby(variable['date'].dt.year)[['home_score', 'away_score']].sum()\n",
    "plt.figure(figsize=(12, 7))\n",
    "all_goals.plot(kind='bar', stacked=True)\n",
    "plt.xlabel('Year', fontsize=12)\n",
    "plt.ylabel('Total Goals Scored', fontsize=12)\n",
    "plt.title('Total Goals Scored Each Year', fontsize=14)\n",
    "plt.xticks(rotation=90)\n",
    "plt.show()\n",
    "\n",
    "#The number of goals scored saw an increase over the years of my dataset too.\n",
    "#You can see a strong corrulation between the number of matches above and goals scored here.\n",
    "#Home goals are blue and away goals are orange, can see there were more home goals scored."
   ]
  },
  {
   "cell_type": "markdown",
   "id": "4d706846",
   "metadata": {},
   "source": [
    "<span style=\"font-size:20px;\">Average Goals Scored Analysis</span>"
   ]
  },
  {
   "cell_type": "code",
   "execution_count": 27,
   "id": "49f70605",
   "metadata": {},
   "outputs": [
    {
     "name": "stdout",
     "output_type": "stream",
     "text": [
      "1.5914089538908116\n"
     ]
    }
   ],
   "source": [
    "def calculate_average_goals(variable, team):\n",
    "    home_goals = variable[variable['home_team'] == team]['home_score'].mean()\n",
    "    away_goals = variable[variable['away_team'] == team]['away_score'].mean()\n",
    "    total_goals = (home_goals + away_goals) / 2\n",
    "    return total_goals\n",
    "\n",
    "average_goal = calculate_average_goals(variable, 'Serbia')\n",
    "print(average_goal)\n",
    "\n",
    "#Function to track a teams average goals scored over the whole DataSet.\n",
    "#Can use this function to track every individual team in the DataSet, here I choose Serbia."
   ]
  },
  {
   "cell_type": "code",
   "execution_count": 28,
   "id": "59c77895",
   "metadata": {},
   "outputs": [
    {
     "data": {
      "image/png": "[encoded data removed]",
      "text/plain": [
       "<Figure size 1080x648 with 1 Axes>"
      ]
     },
     "metadata": {
      "needs_background": "light"
     },
     "output_type": "display_data"
    }
   ],
   "source": [
    "#Which teams on average scored the most goals?\n",
    "#GRAPH THREE:\n",
    "\n",
    "team_avg_goals = pd.DataFrame({'team': variable['home_team'].unique()})\n",
    "team_avg_goals['average_goals'] = team_avg_goals['team'].apply(lambda x: calculate_average_goals(variable, x))\n",
    "team_avg_goals_sorted = team_avg_goals.sort_values(by='average_goals', ascending=False).head(10)\n",
    "plt.figure(figsize=(15, 9))\n",
    "sns.barplot(x='average_goals', y='team', data=team_avg_goals_sorted, color='steelblue')\n",
    "plt.xlabel('Average Goals')\n",
    "plt.ylabel('Team')\n",
    "plt.title('Top Ten Teams with Highest Average Goals Scored')\n",
    "plt.show()\n",
    "\n",
    "#Interesting to see no countries of note nowadays arose here.\n",
    "#These countries generally had higher averages due to playing significantly less games than other teams."
   ]
  },
  {
   "cell_type": "markdown",
   "id": "c3b65b4a",
   "metadata": {},
   "source": [
    "<span style=\"font-size:20px;\">Creating a new column & Dealing with Missing Values</span>"
   ]
  },
  {
   "cell_type": "code",
   "execution_count": 29,
   "id": "3424cd42",
   "metadata": {
    "scrolled": true
   },
   "outputs": [
    {
     "name": "stdout",
     "output_type": "stream",
     "text": [
      "        date home_team away_team  home_score  away_score tournament     city  \\\n",
      "0 1872-11-30  Scotland   England           0           0   Friendly  Glasgow   \n",
      "1 1873-03-08   England  Scotland           4           2   Friendly   London   \n",
      "2 1874-03-07  Scotland   England           2           1   Friendly  Glasgow   \n",
      "3 1875-03-06   England  Scotland           2           2   Friendly   London   \n",
      "4 1876-03-04  Scotland   England           3           0   Friendly  Glasgow   \n",
      "\n",
      "    country  neutral   winners  \n",
      "0  Scotland    False       NaN  \n",
      "1   England    False   England  \n",
      "2  Scotland    False  Scotland  \n",
      "3   England    False       NaN  \n",
      "4  Scotland    False  Scotland  \n"
     ]
    }
   ],
   "source": [
    "variable['winners'] = np.nan\n",
    "variable.loc[variable['home_score'] > variable['away_score'], 'winners'] = variable['home_team']\n",
    "variable.loc[variable['away_score'] > variable['home_score'], 'winners'] = variable['away_team']\n",
    "print(variable.head())\n",
    "\n",
    "#Creating a new column 'winners' to assist in further analysis."
   ]
  },
  {
   "cell_type": "code",
   "execution_count": 30,
   "id": "bf74ccc0",
   "metadata": {},
   "outputs": [
    {
     "data": {
      "text/plain": [
       "date             0\n",
       "home_team        0\n",
       "away_team        0\n",
       "home_score       0\n",
       "away_score       0\n",
       "tournament       0\n",
       "city             0\n",
       "country          0\n",
       "neutral          0\n",
       "winners       9578\n",
       "dtype: int64"
      ]
     },
     "execution_count": 30,
     "metadata": {},
     "output_type": "execute_result"
    }
   ],
   "source": [
    "variable.isnull().sum()\n",
    "\n",
    "#Could see missing values with new column, checked here to see how many."
   ]
  },
  {
   "cell_type": "code",
   "execution_count": 31,
   "id": "16be560f",
   "metadata": {},
   "outputs": [],
   "source": [
    "variable['winners'].fillna('Draw', inplace=True)\n",
    "\n",
    "#Replaced the missing values with 'Draw' to show times where the match ended as a tie."
   ]
  },
  {
   "cell_type": "code",
   "execution_count": 32,
   "id": "9bb12e14",
   "metadata": {},
   "outputs": [
    {
     "data": {
      "text/html": [
       "<div>\n",
       "<style scoped>\n",
       "    .dataframe tbody tr th:only-of-type {\n",
       "        vertical-align: middle;\n",
       "    }\n",
       "\n",
       "    .dataframe tbody tr th {\n",
       "        vertical-align: top;\n",
       "    }\n",
       "\n",
       "    .dataframe thead th {\n",
       "        text-align: right;\n",
       "    }\n",
       "</style>\n",
       "<table border=\"1\" class=\"dataframe\">\n",
       "  <thead>\n",
       "    <tr style=\"text-align: right;\">\n",
       "      <th></th>\n",
       "      <th>date</th>\n",
       "      <th>home_team</th>\n",
       "      <th>away_team</th>\n",
       "      <th>home_score</th>\n",
       "      <th>away_score</th>\n",
       "      <th>tournament</th>\n",
       "      <th>city</th>\n",
       "      <th>country</th>\n",
       "      <th>neutral</th>\n",
       "      <th>winners</th>\n",
       "    </tr>\n",
       "  </thead>\n",
       "  <tbody>\n",
       "    <tr>\n",
       "      <th>0</th>\n",
       "      <td>1872-11-30</td>\n",
       "      <td>Scotland</td>\n",
       "      <td>England</td>\n",
       "      <td>0</td>\n",
       "      <td>0</td>\n",
       "      <td>Friendly</td>\n",
       "      <td>Glasgow</td>\n",
       "      <td>Scotland</td>\n",
       "      <td>False</td>\n",
       "      <td>Draw</td>\n",
       "    </tr>\n",
       "    <tr>\n",
       "      <th>1</th>\n",
       "      <td>1873-03-08</td>\n",
       "      <td>England</td>\n",
       "      <td>Scotland</td>\n",
       "      <td>4</td>\n",
       "      <td>2</td>\n",
       "      <td>Friendly</td>\n",
       "      <td>London</td>\n",
       "      <td>England</td>\n",
       "      <td>False</td>\n",
       "      <td>England</td>\n",
       "    </tr>\n",
       "    <tr>\n",
       "      <th>2</th>\n",
       "      <td>1874-03-07</td>\n",
       "      <td>Scotland</td>\n",
       "      <td>England</td>\n",
       "      <td>2</td>\n",
       "      <td>1</td>\n",
       "      <td>Friendly</td>\n",
       "      <td>Glasgow</td>\n",
       "      <td>Scotland</td>\n",
       "      <td>False</td>\n",
       "      <td>Scotland</td>\n",
       "    </tr>\n",
       "    <tr>\n",
       "      <th>3</th>\n",
       "      <td>1875-03-06</td>\n",
       "      <td>England</td>\n",
       "      <td>Scotland</td>\n",
       "      <td>2</td>\n",
       "      <td>2</td>\n",
       "      <td>Friendly</td>\n",
       "      <td>London</td>\n",
       "      <td>England</td>\n",
       "      <td>False</td>\n",
       "      <td>Draw</td>\n",
       "    </tr>\n",
       "    <tr>\n",
       "      <th>4</th>\n",
       "      <td>1876-03-04</td>\n",
       "      <td>Scotland</td>\n",
       "      <td>England</td>\n",
       "      <td>3</td>\n",
       "      <td>0</td>\n",
       "      <td>Friendly</td>\n",
       "      <td>Glasgow</td>\n",
       "      <td>Scotland</td>\n",
       "      <td>False</td>\n",
       "      <td>Scotland</td>\n",
       "    </tr>\n",
       "  </tbody>\n",
       "</table>\n",
       "</div>"
      ],
      "text/plain": [
       "        date home_team away_team  home_score  away_score tournament     city  \\\n",
       "0 1872-11-30  Scotland   England           0           0   Friendly  Glasgow   \n",
       "1 1873-03-08   England  Scotland           4           2   Friendly   London   \n",
       "2 1874-03-07  Scotland   England           2           1   Friendly  Glasgow   \n",
       "3 1875-03-06   England  Scotland           2           2   Friendly   London   \n",
       "4 1876-03-04  Scotland   England           3           0   Friendly  Glasgow   \n",
       "\n",
       "    country  neutral   winners  \n",
       "0  Scotland    False      Draw  \n",
       "1   England    False   England  \n",
       "2  Scotland    False  Scotland  \n",
       "3   England    False      Draw  \n",
       "4  Scotland    False  Scotland  "
      ]
     },
     "execution_count": 32,
     "metadata": {},
     "output_type": "execute_result"
    }
   ],
   "source": [
    "variable.head()\n",
    "\n",
    "#Check to see missing values were replaced."
   ]
  },
  {
   "cell_type": "code",
   "execution_count": 33,
   "id": "7e9856c3",
   "metadata": {},
   "outputs": [
    {
     "data": {
      "text/html": [
       "<div>\n",
       "<style scoped>\n",
       "    .dataframe tbody tr th:only-of-type {\n",
       "        vertical-align: middle;\n",
       "    }\n",
       "\n",
       "    .dataframe tbody tr th {\n",
       "        vertical-align: top;\n",
       "    }\n",
       "\n",
       "    .dataframe thead th {\n",
       "        text-align: right;\n",
       "    }\n",
       "</style>\n",
       "<table border=\"1\" class=\"dataframe\">\n",
       "  <thead>\n",
       "    <tr style=\"text-align: right;\">\n",
       "      <th></th>\n",
       "      <th>date</th>\n",
       "      <th>home_team</th>\n",
       "      <th>away_team</th>\n",
       "      <th>home_score</th>\n",
       "      <th>away_score</th>\n",
       "      <th>tournament</th>\n",
       "      <th>city</th>\n",
       "      <th>country</th>\n",
       "      <th>neutral</th>\n",
       "      <th>winners</th>\n",
       "    </tr>\n",
       "  </thead>\n",
       "  <tbody>\n",
       "    <tr>\n",
       "      <th>27229</th>\n",
       "      <td>2004-12-18</td>\n",
       "      <td>Maldives</td>\n",
       "      <td>Sri Lanka</td>\n",
       "      <td>0</td>\n",
       "      <td>0</td>\n",
       "      <td>Friendly</td>\n",
       "      <td>Malé</td>\n",
       "      <td>Maldives</td>\n",
       "      <td>False</td>\n",
       "      <td>Draw</td>\n",
       "    </tr>\n",
       "    <tr>\n",
       "      <th>21844</th>\n",
       "      <td>1999-03-26</td>\n",
       "      <td>Costa Rica</td>\n",
       "      <td>Honduras</td>\n",
       "      <td>1</td>\n",
       "      <td>2</td>\n",
       "      <td>UNCAF Cup</td>\n",
       "      <td>San José</td>\n",
       "      <td>Costa Rica</td>\n",
       "      <td>False</td>\n",
       "      <td>Honduras</td>\n",
       "    </tr>\n",
       "    <tr>\n",
       "      <th>1108</th>\n",
       "      <td>1928-03-11</td>\n",
       "      <td>Switzerland</td>\n",
       "      <td>France</td>\n",
       "      <td>4</td>\n",
       "      <td>3</td>\n",
       "      <td>Friendly</td>\n",
       "      <td>Lausanne</td>\n",
       "      <td>Switzerland</td>\n",
       "      <td>False</td>\n",
       "      <td>Switzerland</td>\n",
       "    </tr>\n",
       "    <tr>\n",
       "      <th>11137</th>\n",
       "      <td>1980-02-16</td>\n",
       "      <td>Guinea</td>\n",
       "      <td>Senegal</td>\n",
       "      <td>1</td>\n",
       "      <td>2</td>\n",
       "      <td>Amílcar Cabral Cup</td>\n",
       "      <td>Banjul</td>\n",
       "      <td>Gambia</td>\n",
       "      <td>True</td>\n",
       "      <td>Senegal</td>\n",
       "    </tr>\n",
       "    <tr>\n",
       "      <th>1885</th>\n",
       "      <td>1936-07-04</td>\n",
       "      <td>New Zealand</td>\n",
       "      <td>Australia</td>\n",
       "      <td>1</td>\n",
       "      <td>7</td>\n",
       "      <td>Friendly</td>\n",
       "      <td>Dunedin</td>\n",
       "      <td>New Zealand</td>\n",
       "      <td>False</td>\n",
       "      <td>Australia</td>\n",
       "    </tr>\n",
       "  </tbody>\n",
       "</table>\n",
       "</div>"
      ],
      "text/plain": [
       "            date    home_team  away_team  home_score  away_score  \\\n",
       "27229 2004-12-18     Maldives  Sri Lanka           0           0   \n",
       "21844 1999-03-26   Costa Rica   Honduras           1           2   \n",
       "1108  1928-03-11  Switzerland     France           4           3   \n",
       "11137 1980-02-16       Guinea    Senegal           1           2   \n",
       "1885  1936-07-04  New Zealand  Australia           1           7   \n",
       "\n",
       "               tournament      city      country  neutral      winners  \n",
       "27229            Friendly      Malé     Maldives    False         Draw  \n",
       "21844           UNCAF Cup  San José   Costa Rica    False     Honduras  \n",
       "1108             Friendly  Lausanne  Switzerland    False  Switzerland  \n",
       "11137  Amílcar Cabral Cup    Banjul       Gambia     True      Senegal  \n",
       "1885             Friendly   Dunedin  New Zealand    False    Australia  "
      ]
     },
     "execution_count": 33,
     "metadata": {},
     "output_type": "execute_result"
    }
   ],
   "source": [
    "variable.sample(5)\n",
    "\n",
    "#Check to see missing values were replaced."
   ]
  },
  {
   "cell_type": "markdown",
   "id": "af1f5f34",
   "metadata": {},
   "source": [
    "<span style=\"font-size:20px;\">World Cup Analysis</span>"
   ]
  },
  {
   "cell_type": "code",
   "execution_count": 34,
   "id": "33e64e57",
   "metadata": {},
   "outputs": [
    {
     "name": "stdout",
     "output_type": "stream",
     "text": [
      "         team   wins\n",
      "28    Germany  109.0\n",
      "8      Brazil  109.0\n",
      "39      Italy   83.0\n",
      "2   Argentina   81.0\n",
      "25    England   69.0\n",
      "26     France   66.0\n",
      "68      Spain   63.0\n",
      "44     Mexico   57.0\n",
      "78    Uruguay   56.0\n",
      "69     Sweden   51.0\n"
     ]
    }
   ],
   "source": [
    "world_cup_matches = variable[variable['tournament'] == 'FIFA World Cup']\n",
    "team_w = world_cup_matches['home_team'].value_counts().add(world_cup_matches['away_team'].value_counts(), fill_value=0).to_frame(name='wins')\n",
    "team_w.index.name = 'team'\n",
    "team_w.reset_index(inplace=True)\n",
    "team_w_sorted = team_w.sort_values(by='wins', ascending=False)\n",
    "most_wins = team_w_sorted.head(10)\n",
    "print(most_wins)\n",
    "\n",
    "#Shows the teams with the most wins in the World Cup competition in my DataSet."
   ]
  },
  {
   "cell_type": "code",
   "execution_count": 35,
   "id": "bc3a949c",
   "metadata": {},
   "outputs": [
    {
     "data": {
      "image/png": "[encoded data removed]",
      "text/plain": [
       "<Figure size 1080x648 with 1 Axes>"
      ]
     },
     "metadata": {
      "needs_background": "light"
     },
     "output_type": "display_data"
    }
   ],
   "source": [
    "#How many matches were played in each iteration of the World Cup tournament?\n",
    "#GRAPH FOUR:\n",
    "\n",
    "world_cup_matches = variable[variable['tournament'] == 'FIFA World Cup'].copy()\n",
    "world_cup_matches.loc[:, 'year'] = world_cup_matches['date'].dt.year.astype(str)\n",
    "matches_per_world_cup = world_cup_matches['year'].value_counts().sort_index()\n",
    "\n",
    "plt.figure(figsize=(15, 9))\n",
    "matches_per_world_cup.plot(kind='bar', color='blue')\n",
    "plt.title('Number of Matches per World Cup')\n",
    "plt.xlabel('World Cup Edition')\n",
    "plt.ylabel('Number of Matches')\n",
    "plt.xticks(rotation=45)\n",
    "plt.show()\n",
    "\n",
    "#Offers really interesting insights, number of matches at World Cups has risen dramatically since the start."
   ]
  },
  {
   "cell_type": "markdown",
   "id": "938a53f0",
   "metadata": {},
   "source": [
    "<span style=\"font-size:20px;\">Home v Away Score Analysis</span>"
   ]
  },
  {
   "cell_type": "code",
   "execution_count": 36,
   "id": "6bff8e81",
   "metadata": {},
   "outputs": [
    {
     "data": {
      "image/png": "[encoded data removed]",
      "text/plain": [
       "<Figure size 1080x648 with 1 Axes>"
      ]
     },
     "metadata": {
      "needs_background": "light"
     },
     "output_type": "display_data"
    }
   ],
   "source": [
    "#Visualisation of home and away scores on a scatter plot.\n",
    "#GRAPH FIVE:\n",
    "\n",
    "plt.figure(figsize=(15, 9))\n",
    "sns.scatterplot(data=variable, x='home_score', y='away_score')\n",
    "plt.xlabel('Home Score')\n",
    "plt.ylabel('Away Score')\n",
    "plt.title('Home Score vs. Away Score')\n",
    "plt.show()\n",
    "\n",
    "#The range of outcomes can be seen with clear outliers at the top of home score and some at away score.\n",
    "#A relationship is clear from 5 to 5 on both axis' with a higher chance of these values."
   ]
  },
  {
   "cell_type": "code",
   "execution_count": 37,
   "id": "1aac1842",
   "metadata": {
    "scrolled": true
   },
   "outputs": [
    {
     "name": "stdout",
     "output_type": "stream",
     "text": [
      "            date  home_team       away_team  home_score  away_score\n",
      "7902  1971-09-13     Tahiti    Cook Islands          30           0\n",
      "10949 1979-08-30       Fiji        Kiribati          24           0\n",
      "22567 2000-02-14     Kuwait          Bhutan          20           0\n",
      "23793 2001-04-09  Australia           Tonga          22           0\n",
      "23796 2001-04-11  Australia  American Samoa          31           0\n",
      "28838 2006-11-24      Sápmi          Monaco          21           1\n"
     ]
    }
   ],
   "source": [
    "home_20_goals = variable[variable['home_score'] >= 20]\n",
    "home_20 = home_20_goals[['date', 'home_team', 'away_team', 'home_score', 'away_score']]\n",
    "print(home_20)\n",
    "\n",
    "#Shows the home score outliers from the scatter plot above, where home team scored 20+ goals."
   ]
  },
  {
   "cell_type": "markdown",
   "id": "dc6abc43",
   "metadata": {},
   "source": [
    "<span style=\"font-size:20px;\">Tournament Analysis</span>"
   ]
  },
  {
   "cell_type": "code",
   "execution_count": 38,
   "id": "418ace73",
   "metadata": {},
   "outputs": [
    {
     "name": "stdout",
     "output_type": "stream",
     "text": [
      "Friendly                                17029\n",
      "FIFA World Cup qualification             7236\n",
      "UEFA Euro qualification                  2582\n",
      "African Cup of Nations qualification     1672\n",
      "FIFA World Cup                            900\n",
      "                                        ...  \n",
      "OSN Cup                                     4\n",
      "Dragon Cup                                  4\n",
      "Copa América qualification                  2\n",
      "AFF Championship qualification              2\n",
      "Atlantic Heritage Cup                       2\n",
      "Name: tournament, Length: 112, dtype: int64\n"
     ]
    }
   ],
   "source": [
    "tournament_types = variable['tournament'].value_counts()\n",
    "print(tournament_types)\n",
    "\n",
    "#Shows some of the different tournaments in my dataset."
   ]
  },
  {
   "cell_type": "code",
   "execution_count": 39,
   "id": "2540cfb3",
   "metadata": {
    "scrolled": true
   },
   "outputs": [
    {
     "data": {
      "image/png": "[encoded data removed]",
      "text/plain": [
       "<Figure size 1152x648 with 1 Axes>"
      ]
     },
     "metadata": {
      "needs_background": "light"
     },
     "output_type": "display_data"
    }
   ],
   "source": [
    "#Which tournament's had the most games played?\n",
    "#GRAPH SIX:\n",
    "\n",
    "top_tournaments = tournament_types.head(15)\n",
    "plt.figure(figsize=(16, 9))\n",
    "top_tournaments.plot(kind='bar')\n",
    "plt.title('Top 15 Tournaments by Matches Played')\n",
    "plt.xlabel('Tournament')\n",
    "plt.ylabel('Matches Played')\n",
    "plt.xticks(rotation=90)\n",
    "plt.show()\n",
    "\n",
    "#Friendly matches were by far the most played, with world cup qualification second due to it including all teams."
   ]
  },
  {
   "cell_type": "code",
   "execution_count": 40,
   "id": "c4f81df7",
   "metadata": {},
   "outputs": [
    {
     "data": {
      "image/png": "[encoded data removed]",
      "text/plain": [
       "<Figure size 1296x720 with 1 Axes>"
      ]
     },
     "metadata": {
      "needs_background": "light"
     },
     "output_type": "display_data"
    }
   ],
   "source": [
    "#Which tournament's had the least number of games played?\n",
    "#GRAPH SEVEN:\n",
    "\n",
    "bottom_tournaments = tournament_types.tail(10)\n",
    "plt.figure(figsize=(18, 10))\n",
    "sns.barplot(x=bottom_tournaments.values, y=bottom_tournaments.index, palette=(\"Set3\"))\n",
    "plt.title('Bottom 10 Tournaments by Matches Played')\n",
    "plt.xlabel('Tournament')\n",
    "plt.ylabel('Matches Played')\n",
    "plt.show()\n",
    "\n",
    "#This interesting plot informed me of tournaments I wasn't aware of before."
   ]
  },
  {
   "cell_type": "markdown",
   "id": "55e6c016",
   "metadata": {},
   "source": [
    "<span style=\"font-size:20px;\">Retrieving Data using online APIs</span>"
   ]
  },
  {
   "cell_type": "code",
   "execution_count": 41,
   "id": "59fa406e",
   "metadata": {},
   "outputs": [],
   "source": [
    "weather = requests.get('https://archive-api.open-meteo.com/v1/archive?latitude=-10.00&longitude=-55.00&start_date=2014-06-12&end_date=2014-06-25&daily=weathercode,temperature_2m_max,temperature_2m_min,temperature_2m_mean&timezone=auto')"
   ]
  },
  {
   "cell_type": "code",
   "execution_count": 42,
   "id": "1ed4e955",
   "metadata": {
    "scrolled": true
   },
   "outputs": [
    {
     "data": {
      "text/html": [
       "<div>\n",
       "<style scoped>\n",
       "    .dataframe tbody tr th:only-of-type {\n",
       "        vertical-align: middle;\n",
       "    }\n",
       "\n",
       "    .dataframe tbody tr th {\n",
       "        vertical-align: top;\n",
       "    }\n",
       "\n",
       "    .dataframe thead th {\n",
       "        text-align: right;\n",
       "    }\n",
       "</style>\n",
       "<table border=\"1\" class=\"dataframe\">\n",
       "  <thead>\n",
       "    <tr style=\"text-align: right;\">\n",
       "      <th></th>\n",
       "      <th>latitude</th>\n",
       "      <th>longitude</th>\n",
       "      <th>generationtime_ms</th>\n",
       "      <th>utc_offset_seconds</th>\n",
       "      <th>timezone</th>\n",
       "      <th>timezone_abbreviation</th>\n",
       "      <th>elevation</th>\n",
       "      <th>daily_units</th>\n",
       "      <th>daily</th>\n",
       "    </tr>\n",
       "  </thead>\n",
       "  <tbody>\n",
       "    <tr>\n",
       "      <th>time</th>\n",
       "      <td>-9.900002</td>\n",
       "      <td>-54.9</td>\n",
       "      <td>0.78702</td>\n",
       "      <td>-14400</td>\n",
       "      <td>America/Cuiaba</td>\n",
       "      <td>-04</td>\n",
       "      <td>420.0</td>\n",
       "      <td>iso8601</td>\n",
       "      <td>[2014-06-12, 2014-06-13, 2014-06-14, 2014-06-1...</td>\n",
       "    </tr>\n",
       "    <tr>\n",
       "      <th>weathercode</th>\n",
       "      <td>-9.900002</td>\n",
       "      <td>-54.9</td>\n",
       "      <td>0.78702</td>\n",
       "      <td>-14400</td>\n",
       "      <td>America/Cuiaba</td>\n",
       "      <td>-04</td>\n",
       "      <td>420.0</td>\n",
       "      <td>wmo code</td>\n",
       "      <td>[1, 1, 1, 2, 1, 2, 3, 2, 1, 1, 1, 1, 2, 0]</td>\n",
       "    </tr>\n",
       "    <tr>\n",
       "      <th>temperature_2m_max</th>\n",
       "      <td>-9.900002</td>\n",
       "      <td>-54.9</td>\n",
       "      <td>0.78702</td>\n",
       "      <td>-14400</td>\n",
       "      <td>America/Cuiaba</td>\n",
       "      <td>-04</td>\n",
       "      <td>420.0</td>\n",
       "      <td>°C</td>\n",
       "      <td>[30.9, 31.2, 31.6, 30.1, 31.3, 30.1, 30.3, 30....</td>\n",
       "    </tr>\n",
       "    <tr>\n",
       "      <th>temperature_2m_min</th>\n",
       "      <td>-9.900002</td>\n",
       "      <td>-54.9</td>\n",
       "      <td>0.78702</td>\n",
       "      <td>-14400</td>\n",
       "      <td>America/Cuiaba</td>\n",
       "      <td>-04</td>\n",
       "      <td>420.0</td>\n",
       "      <td>°C</td>\n",
       "      <td>[20.2, 20.6, 19.9, 20.8, 19.9, 19.9, 20.4, 21....</td>\n",
       "    </tr>\n",
       "    <tr>\n",
       "      <th>temperature_2m_mean</th>\n",
       "      <td>-9.900002</td>\n",
       "      <td>-54.9</td>\n",
       "      <td>0.78702</td>\n",
       "      <td>-14400</td>\n",
       "      <td>America/Cuiaba</td>\n",
       "      <td>-04</td>\n",
       "      <td>420.0</td>\n",
       "      <td>°C</td>\n",
       "      <td>[25.6, 25.5, 25.7, 25.2, 25.3, 25.0, 24.9, 25....</td>\n",
       "    </tr>\n",
       "  </tbody>\n",
       "</table>\n",
       "</div>"
      ],
      "text/plain": [
       "                     latitude  longitude  generationtime_ms  \\\n",
       "time                -9.900002      -54.9            0.78702   \n",
       "weathercode         -9.900002      -54.9            0.78702   \n",
       "temperature_2m_max  -9.900002      -54.9            0.78702   \n",
       "temperature_2m_min  -9.900002      -54.9            0.78702   \n",
       "temperature_2m_mean -9.900002      -54.9            0.78702   \n",
       "\n",
       "                     utc_offset_seconds        timezone timezone_abbreviation  \\\n",
       "time                             -14400  America/Cuiaba                   -04   \n",
       "weathercode                      -14400  America/Cuiaba                   -04   \n",
       "temperature_2m_max               -14400  America/Cuiaba                   -04   \n",
       "temperature_2m_min               -14400  America/Cuiaba                   -04   \n",
       "temperature_2m_mean              -14400  America/Cuiaba                   -04   \n",
       "\n",
       "                     elevation daily_units  \\\n",
       "time                     420.0     iso8601   \n",
       "weathercode              420.0    wmo code   \n",
       "temperature_2m_max       420.0          °C   \n",
       "temperature_2m_min       420.0          °C   \n",
       "temperature_2m_mean      420.0          °C   \n",
       "\n",
       "                                                                 daily  \n",
       "time                 [2014-06-12, 2014-06-13, 2014-06-14, 2014-06-1...  \n",
       "weathercode                 [1, 1, 1, 2, 1, 2, 3, 2, 1, 1, 1, 1, 2, 0]  \n",
       "temperature_2m_max   [30.9, 31.2, 31.6, 30.1, 31.3, 30.1, 30.3, 30....  \n",
       "temperature_2m_min   [20.2, 20.6, 19.9, 20.8, 19.9, 19.9, 20.4, 21....  \n",
       "temperature_2m_mean  [25.6, 25.5, 25.7, 25.2, 25.3, 25.0, 24.9, 25....  "
      ]
     },
     "execution_count": 42,
     "metadata": {},
     "output_type": "execute_result"
    }
   ],
   "source": [
    "pd.DataFrame(weather.json())"
   ]
  },
  {
   "cell_type": "code",
   "execution_count": 43,
   "id": "219174e6",
   "metadata": {},
   "outputs": [
    {
     "name": "stdout",
     "output_type": "stream",
     "text": [
      "          time  weathercode  temperature_2m_max  temperature_2m_min  \\\n",
      "0   2014-06-12            1                30.9                20.2   \n",
      "1   2014-06-13            1                31.2                20.6   \n",
      "2   2014-06-14            1                31.6                19.9   \n",
      "3   2014-06-15            2                30.1                20.8   \n",
      "4   2014-06-16            1                31.3                19.9   \n",
      "5   2014-06-17            2                30.1                19.9   \n",
      "6   2014-06-18            3                30.3                20.4   \n",
      "7   2014-06-19            2                30.5                21.4   \n",
      "8   2014-06-20            1                31.9                20.7   \n",
      "9   2014-06-21            1                31.7                20.6   \n",
      "10  2014-06-22            1                32.4                20.6   \n",
      "11  2014-06-23            1                31.9                21.2   \n",
      "12  2014-06-24            2                31.4                20.3   \n",
      "13  2014-06-25            0                32.6                20.7   \n",
      "\n",
      "    temperature_2m_mean  \n",
      "0                  25.6  \n",
      "1                  25.5  \n",
      "2                  25.7  \n",
      "3                  25.2  \n",
      "4                  25.3  \n",
      "5                  25.0  \n",
      "6                  24.9  \n",
      "7                  25.5  \n",
      "8                  26.0  \n",
      "9                  26.1  \n",
      "10                 26.3  \n",
      "11                 25.9  \n",
      "12                 25.5  \n",
      "13                 26.4  \n"
     ]
    }
   ],
   "source": [
    "weather_new = pd.DataFrame(weather.json()['daily'])\n",
    "print(weather_new)\n",
    "#This denotes the min, max and average temperatures in Brazil at the start of the 2014 World Cup.\n",
    "#Weathercode states what kind of day it is: 0=Fair, 1=Mainly Clear, 2=Partly Cloudy, 3=Overcast"
   ]
  },
  {
   "cell_type": "markdown",
   "id": "5676a28e",
   "metadata": {},
   "source": [
    "<span style=\"font-size:20px;\">Merging Two DataFrames (Results & Weather) </span>"
   ]
  },
  {
   "cell_type": "code",
   "execution_count": 44,
   "id": "5a4235c2",
   "metadata": {},
   "outputs": [
    {
     "name": "stdout",
     "output_type": "stream",
     "text": [
      "          date  weathercode  temperature_2m_max  temperature_2m_min  \\\n",
      "0   2014-06-12            1                30.9                20.2   \n",
      "1   2014-06-13            1                31.2                20.6   \n",
      "2   2014-06-14            1                31.6                19.9   \n",
      "3   2014-06-15            2                30.1                20.8   \n",
      "4   2014-06-16            1                31.3                19.9   \n",
      "5   2014-06-17            2                30.1                19.9   \n",
      "6   2014-06-18            3                30.3                20.4   \n",
      "7   2014-06-19            2                30.5                21.4   \n",
      "8   2014-06-20            1                31.9                20.7   \n",
      "9   2014-06-21            1                31.7                20.6   \n",
      "10  2014-06-22            1                32.4                20.6   \n",
      "11  2014-06-23            1                31.9                21.2   \n",
      "12  2014-06-24            2                31.4                20.3   \n",
      "13  2014-06-25            0                32.6                20.7   \n",
      "\n",
      "    temperature_2m_mean  \n",
      "0                  25.6  \n",
      "1                  25.5  \n",
      "2                  25.7  \n",
      "3                  25.2  \n",
      "4                  25.3  \n",
      "5                  25.0  \n",
      "6                  24.9  \n",
      "7                  25.5  \n",
      "8                  26.0  \n",
      "9                  26.1  \n",
      "10                 26.3  \n",
      "11                 25.9  \n",
      "12                 25.5  \n",
      "13                 26.4  \n"
     ]
    }
   ],
   "source": [
    "weather_new = pd.DataFrame(weather.json()['daily'])\n",
    "weather_new = weather_new.rename(columns={'time': 'date'})\n",
    "print(weather_new)\n",
    "\n",
    "#Changing the 'time' column to 'date' to allow my DataFrames to merge.\n",
    "#The newly updated 'date' column can be seen below."
   ]
  },
  {
   "cell_type": "code",
   "execution_count": 45,
   "id": "7d5f385f",
   "metadata": {},
   "outputs": [
    {
     "name": "stdout",
     "output_type": "stream",
     "text": [
      "<class 'pandas.core.frame.DataFrame'>\n",
      "RangeIndex: 14 entries, 0 to 13\n",
      "Data columns (total 5 columns):\n",
      " #   Column               Non-Null Count  Dtype  \n",
      "---  ------               --------------  -----  \n",
      " 0   date                 14 non-null     object \n",
      " 1   weathercode          14 non-null     int64  \n",
      " 2   temperature_2m_max   14 non-null     float64\n",
      " 3   temperature_2m_min   14 non-null     float64\n",
      " 4   temperature_2m_mean  14 non-null     float64\n",
      "dtypes: float64(3), int64(1), object(1)\n",
      "memory usage: 688.0+ bytes\n"
     ]
    }
   ],
   "source": [
    "weather_new.info()\n",
    "\n",
    "#Looking at the data types to see if appropriate for merge, the data type for Date needs to be changed."
   ]
  },
  {
   "cell_type": "code",
   "execution_count": 46,
   "id": "6f45f52f",
   "metadata": {},
   "outputs": [
    {
     "name": "stdout",
     "output_type": "stream",
     "text": [
      "<class 'pandas.core.frame.DataFrame'>\n",
      "RangeIndex: 14 entries, 0 to 13\n",
      "Data columns (total 5 columns):\n",
      " #   Column               Non-Null Count  Dtype         \n",
      "---  ------               --------------  -----         \n",
      " 0   date                 14 non-null     datetime64[ns]\n",
      " 1   weathercode          14 non-null     int64         \n",
      " 2   temperature_2m_max   14 non-null     float64       \n",
      " 3   temperature_2m_min   14 non-null     float64       \n",
      " 4   temperature_2m_mean  14 non-null     float64       \n",
      "dtypes: datetime64[ns](1), float64(3), int64(1)\n",
      "memory usage: 688.0 bytes\n"
     ]
    }
   ],
   "source": [
    "weather_new['date'] = pd.to_datetime(weather_new['date'])\n",
    "\n",
    "weather_new.info()\n",
    "\n",
    "#Data type of Data has been changed to allow merging.\n",
    "#Updated data type can be seen."
   ]
  },
  {
   "cell_type": "code",
   "execution_count": 47,
   "id": "f510573c",
   "metadata": {},
   "outputs": [],
   "source": [
    "weather_results = pd.merge(variable, weather_new, how='inner', on='date')\n",
    "\n",
    "#Merging the two DataFrames together."
   ]
  },
  {
   "cell_type": "code",
   "execution_count": 48,
   "id": "8efd9a0d",
   "metadata": {},
   "outputs": [
    {
     "data": {
      "text/html": [
       "<div>\n",
       "<style scoped>\n",
       "    .dataframe tbody tr th:only-of-type {\n",
       "        vertical-align: middle;\n",
       "    }\n",
       "\n",
       "    .dataframe tbody tr th {\n",
       "        vertical-align: top;\n",
       "    }\n",
       "\n",
       "    .dataframe thead th {\n",
       "        text-align: right;\n",
       "    }\n",
       "</style>\n",
       "<table border=\"1\" class=\"dataframe\">\n",
       "  <thead>\n",
       "    <tr style=\"text-align: right;\">\n",
       "      <th></th>\n",
       "      <th>date</th>\n",
       "      <th>home_team</th>\n",
       "      <th>away_team</th>\n",
       "      <th>home_score</th>\n",
       "      <th>away_score</th>\n",
       "      <th>tournament</th>\n",
       "      <th>city</th>\n",
       "      <th>country</th>\n",
       "      <th>neutral</th>\n",
       "      <th>winners</th>\n",
       "      <th>weathercode</th>\n",
       "      <th>temperature_2m_max</th>\n",
       "      <th>temperature_2m_min</th>\n",
       "      <th>temperature_2m_mean</th>\n",
       "    </tr>\n",
       "  </thead>\n",
       "  <tbody>\n",
       "    <tr>\n",
       "      <th>0</th>\n",
       "      <td>2014-06-12</td>\n",
       "      <td>Brazil</td>\n",
       "      <td>Croatia</td>\n",
       "      <td>3</td>\n",
       "      <td>1</td>\n",
       "      <td>FIFA World Cup</td>\n",
       "      <td>São Paulo</td>\n",
       "      <td>Brazil</td>\n",
       "      <td>False</td>\n",
       "      <td>Brazil</td>\n",
       "      <td>1</td>\n",
       "      <td>30.9</td>\n",
       "      <td>20.2</td>\n",
       "      <td>25.6</td>\n",
       "    </tr>\n",
       "    <tr>\n",
       "      <th>1</th>\n",
       "      <td>2014-06-13</td>\n",
       "      <td>Chile</td>\n",
       "      <td>Australia</td>\n",
       "      <td>3</td>\n",
       "      <td>1</td>\n",
       "      <td>FIFA World Cup</td>\n",
       "      <td>Cuiabá</td>\n",
       "      <td>Brazil</td>\n",
       "      <td>True</td>\n",
       "      <td>Chile</td>\n",
       "      <td>1</td>\n",
       "      <td>31.2</td>\n",
       "      <td>20.6</td>\n",
       "      <td>25.5</td>\n",
       "    </tr>\n",
       "    <tr>\n",
       "      <th>2</th>\n",
       "      <td>2014-06-13</td>\n",
       "      <td>Mexico</td>\n",
       "      <td>Cameroon</td>\n",
       "      <td>1</td>\n",
       "      <td>0</td>\n",
       "      <td>FIFA World Cup</td>\n",
       "      <td>Natal</td>\n",
       "      <td>Brazil</td>\n",
       "      <td>True</td>\n",
       "      <td>Mexico</td>\n",
       "      <td>1</td>\n",
       "      <td>31.2</td>\n",
       "      <td>20.6</td>\n",
       "      <td>25.5</td>\n",
       "    </tr>\n",
       "    <tr>\n",
       "      <th>3</th>\n",
       "      <td>2014-06-13</td>\n",
       "      <td>Spain</td>\n",
       "      <td>Netherlands</td>\n",
       "      <td>1</td>\n",
       "      <td>5</td>\n",
       "      <td>FIFA World Cup</td>\n",
       "      <td>Salvador</td>\n",
       "      <td>Brazil</td>\n",
       "      <td>True</td>\n",
       "      <td>Netherlands</td>\n",
       "      <td>1</td>\n",
       "      <td>31.2</td>\n",
       "      <td>20.6</td>\n",
       "      <td>25.5</td>\n",
       "    </tr>\n",
       "    <tr>\n",
       "      <th>4</th>\n",
       "      <td>2014-06-14</td>\n",
       "      <td>Colombia</td>\n",
       "      <td>Greece</td>\n",
       "      <td>3</td>\n",
       "      <td>0</td>\n",
       "      <td>FIFA World Cup</td>\n",
       "      <td>Belo Horizonte</td>\n",
       "      <td>Brazil</td>\n",
       "      <td>True</td>\n",
       "      <td>Colombia</td>\n",
       "      <td>1</td>\n",
       "      <td>31.6</td>\n",
       "      <td>19.9</td>\n",
       "      <td>25.7</td>\n",
       "    </tr>\n",
       "  </tbody>\n",
       "</table>\n",
       "</div>"
      ],
      "text/plain": [
       "        date home_team    away_team  home_score  away_score      tournament  \\\n",
       "0 2014-06-12    Brazil      Croatia           3           1  FIFA World Cup   \n",
       "1 2014-06-13     Chile    Australia           3           1  FIFA World Cup   \n",
       "2 2014-06-13    Mexico     Cameroon           1           0  FIFA World Cup   \n",
       "3 2014-06-13     Spain  Netherlands           1           5  FIFA World Cup   \n",
       "4 2014-06-14  Colombia       Greece           3           0  FIFA World Cup   \n",
       "\n",
       "             city country  neutral      winners  weathercode  \\\n",
       "0       São Paulo  Brazil    False       Brazil            1   \n",
       "1          Cuiabá  Brazil     True        Chile            1   \n",
       "2           Natal  Brazil     True       Mexico            1   \n",
       "3        Salvador  Brazil     True  Netherlands            1   \n",
       "4  Belo Horizonte  Brazil     True     Colombia            1   \n",
       "\n",
       "   temperature_2m_max  temperature_2m_min  temperature_2m_mean  \n",
       "0                30.9                20.2                 25.6  \n",
       "1                31.2                20.6                 25.5  \n",
       "2                31.2                20.6                 25.5  \n",
       "3                31.2                20.6                 25.5  \n",
       "4                31.6                19.9                 25.7  "
      ]
     },
     "execution_count": 48,
     "metadata": {},
     "output_type": "execute_result"
    }
   ],
   "source": [
    "weather_results.head()\n",
    "\n",
    "#Looking at the first five entries of the dataset to see successful merge."
   ]
  },
  {
   "cell_type": "code",
   "execution_count": 49,
   "id": "3795803b",
   "metadata": {},
   "outputs": [
    {
     "data": {
      "text/plain": [
       "date                   0\n",
       "home_team              0\n",
       "away_team              0\n",
       "home_score             0\n",
       "away_score             0\n",
       "tournament             0\n",
       "city                   0\n",
       "country                0\n",
       "neutral                0\n",
       "winners                0\n",
       "weathercode            0\n",
       "temperature_2m_max     0\n",
       "temperature_2m_min     0\n",
       "temperature_2m_mean    0\n",
       "dtype: int64"
      ]
     },
     "execution_count": 49,
     "metadata": {},
     "output_type": "execute_result"
    }
   ],
   "source": [
    "weather_results.isnull().sum()\n",
    "\n",
    "#Ensuring that there are no missing values."
   ]
  },
  {
   "cell_type": "code",
   "execution_count": 50,
   "id": "1b277df0",
   "metadata": {},
   "outputs": [
    {
     "data": {
      "text/plain": [
       "(48, 14)"
      ]
     },
     "execution_count": 50,
     "metadata": {},
     "output_type": "execute_result"
    }
   ],
   "source": [
    "weather_results.shape\n",
    "\n",
    "#There are 48 entries and 14 columns in the Dataset."
   ]
  }
 ],
 "metadata": {
  "kernelspec": {
   "display_name": "Python 3",
   "language": "python",
   "name": "python3"
  },
  "language_info": {
   "codemirror_mode": {
    "name": "ipython",
    "version": 3
   },
   "file_extension": ".py",
   "mimetype": "text/x-python",
   "name": "python",
   "nbconvert_exporter": "python",
   "pygments_lexer": "ipython3",
   "version": "3.8.8"
  }
 },
 "nbformat": 4,
 "nbformat_minor": 5
}
